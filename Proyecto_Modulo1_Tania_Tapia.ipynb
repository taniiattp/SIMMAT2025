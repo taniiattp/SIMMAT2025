{
  "nbformat": 4,
  "nbformat_minor": 5,
  "metadata": {
    "colab": {
      "provenance": []
    },
    "language_info": {
      "name": "python"
    },
    "kernelspec": {
      "name": "python3",
      "display_name": "Python 3"
    }
  },
  "cells": [
    {
      "id": "96a3a3a3",
      "cell_type": "markdown",
      "source": [
        "# PROYECTO MÓDULO 1\n",
        "*TANIA TAPIA*\n",
        "\n",
        "## Optimización del uso de materiales en una obra civil\n",
        "\n",
        "### **Objetivo general:**\n",
        "Optimizar el uso de materiales en una obra civil para minimizar el costo total de compra, garantizando el cumplimiento de la demanda y evitando desperdicios.\n",
        "\n",
        "### **Objetivos específicos:**\n",
        "- Plantear un modelo matemático que permita calcular la cantidad óptima de cemento, grava y arena a comprar.\n",
        "- Minimizar el costo total de materiales sin exceder la demanda requerida.\n",
        "- Aplicar los conocimientos de optimización lineal aprendidos en la materia de Simulación Matemática.\n",
        "\n",
        "### **Problema:**\n",
        "Una constructora está por iniciar una obra civil y necesita producir **100 m³ de mezcla de concreto**. Cada metro cúbico requiere **350 kg de cemento**, **700 kg de grava** y **500 kg de arena**.  \n",
        "Existen **tres proveedores** con diferentes precios por kilogramo y con capacidad limitada para surtir materiales. Por lo que se busca definir cuánto material comprarle a cada proveedor para cubrir su demanda ahorrando lo más que se pueda en el costo, debido a que se cuenta con un presupuesto limitado, sin desperdiciar y respetando los límites de entrega de cada proveedor.\n"
      ],
      "metadata": {
        "id": "96a3a3a3"
      }
    },
    {
      "id": "961e3607",
      "cell_type": "markdown",
      "source": [
        "### **Solución:**\n",
        "\n",
        "Se usarán las siguientes variables:\n",
        "\n",
        "$x_{(p,m)}$ → cantidad (kg) del material *m* comprada al proveedor *p*  \n",
        "\n",
        "Donde:  \n",
        "- $p ∈ \\{A, B, C\\}$ (proveedores)  \n",
        "- $m ∈ \\{\\text{cemento, grava, arena}\\}$  \n",
        "\n",
        "\n",
        "### **Modelo matemático:**\n",
        "\n",
        "**Función objetivo:**  \n",
        "Minimizar el costo total:\n",
        "\n",
        "$$\n",
        "Z = \\sum_{p}\\sum_{m} (costo_{p,m} \\times x_{p,m})\n",
        "$$\n",
        "\n",
        "\n",
        "**Sujeto a:**\n",
        "\n",
        "1. **Cumplir con la demanda total de cada material:**\n",
        "\n",
        "$$\n",
        "\\sum_{p} x_{p,cemento} = 350 \\times 100\n",
        "$$\n",
        "\n",
        "$$\n",
        "\\sum_{p} x_{p,grava} = 700 \\times 100\n",
        "$$\n",
        "\n",
        "$$\n",
        "\\sum_{p} x_{p,arena} = 500 \\times 100\n",
        "$$\n",
        "\n",
        "\n",
        "2. **No exceder la capacidad de entrega de cada proveedor:**\n",
        "\n",
        "$$\n",
        "\\sum_{m} x_{p,m} \\leq capacidad_p\n",
        "$$\n",
        "\n",
        "\n",
        "3. **No comprar cantidades negativas:**\n",
        "\n",
        "$$\n",
        "x_{p,m} \\geq 0\n",
        "$$\n",
        "\n"
      ],
      "metadata": {
        "id": "961e3607"
      }
    },
    {
      "cell_type": "code",
      "source": [
        "import numpy as np\n",
        "import sympy as sym\n",
        "import scipy.optimize as opt\n",
        "\n",
        "# Coeficientes de la función objetivo (costos en pesos/kg)\n",
        "# Orden: [A_cem, B_cem, C_cem, A_gra, B_gra, C_gra, A_are, B_are, C_are]\n",
        "c = np.array([3.5, 3.7, 3.6, 1.2, 1.0, 1.3, 0.9, 1.1, 1.0])\n",
        "\n",
        "# Restricciones\n",
        "# 1) Capacidad de cada proveedor (<=)\n",
        "# 2) Demanda total de materiales (=)\n",
        "\n",
        "A_ub = np.array([\n",
        "    [1,0,0, 1,0,0, 1,0,0],  # Prov_A\n",
        "    [0,1,0, 0,1,0, 0,1,0],  # Prov_B\n",
        "    [0,0,1, 0,0,1, 0,0,1]   # Prov_C\n",
        "])\n",
        "b_ub = np.array([60000, 70000, 65000])\n",
        "\n",
        "A_eq = np.array([\n",
        "    [1,1,1, 0,0,0, 0,0,0],   # Cemento total\n",
        "    [0,0,0, 1,1,1, 0,0,0],   # Grava total\n",
        "    [0,0,0, 0,0,0, 1,1,1]    # Arena total\n",
        "])\n",
        "b_eq = np.array([\n",
        "    350*100,  # Cemento requerido\n",
        "    700*100,  # Grava requerida\n",
        "    500*100   # Arena requerida\n",
        "])\n",
        "\n",
        "# Resolver modelo (minimizar costo total)\n",
        "opt.linprog(c, A_ub=A_ub, b_ub=b_ub,\n",
        "                  A_eq=A_eq, b_eq=b_eq,\n",
        "                  bounds=(0, None), method='highs')\n",
        "#NOTA: en lugar de utilizar simplex se remplazo por hihgs ya que aparecia este warning /tmp/ipython-input-2051065311.py:41: DeprecationWarning: `method='simplex'` is deprecated and will be removed in SciPy 1.11.0. Please use one of the HiGHS solvers (e.g. `method='highs'`) in new code.\n"
      ],
      "metadata": {
        "colab": {
          "base_uri": "https://localhost:8080/"
        },
        "id": "q-CykpEGxRgl",
        "outputId": "ffba2ae1-01c5-497f-c860-c12c8fb1f7b6"
      },
      "id": "q-CykpEGxRgl",
      "execution_count": null,
      "outputs": [
        {
          "output_type": "execute_result",
          "data": {
            "text/plain": [
              "        message: Optimization terminated successfully. (HiGHS Status 7: Optimal)\n",
              "        success: True\n",
              "         status: 0\n",
              "            fun: 240000.0\n",
              "              x: [ 3.500e+04  0.000e+00  0.000e+00  0.000e+00  7.000e+04\n",
              "                   0.000e+00  2.500e+04  0.000e+00  2.500e+04]\n",
              "            nit: 4\n",
              "          lower:  residual: [ 3.500e+04  0.000e+00  0.000e+00  0.000e+00\n",
              "                              7.000e+04  0.000e+00  2.500e+04  0.000e+00\n",
              "                              2.500e+04]\n",
              "                 marginals: [ 0.000e+00  1.000e-01  0.000e+00  3.000e-01\n",
              "                              0.000e+00  3.000e-01  0.000e+00  1.000e-01\n",
              "                              0.000e+00]\n",
              "          upper:  residual: [       inf        inf        inf        inf\n",
              "                                    inf        inf        inf        inf\n",
              "                                    inf]\n",
              "                 marginals: [ 0.000e+00  0.000e+00  0.000e+00  0.000e+00\n",
              "                              0.000e+00  0.000e+00  0.000e+00  0.000e+00\n",
              "                              0.000e+00]\n",
              "          eqlin:  residual: [ 0.000e+00  0.000e+00  0.000e+00]\n",
              "                 marginals: [ 3.600e+00  1.000e+00  1.000e+00]\n",
              "        ineqlin:  residual: [ 0.000e+00  0.000e+00  4.000e+04]\n",
              "                 marginals: [-1.000e-01 -0.000e+00 -0.000e+00]\n",
              " mip_node_count: 0\n",
              " mip_dual_bound: 0.0\n",
              "        mip_gap: 0.0"
            ]
          },
          "metadata": {},
          "execution_count": 28
        }
      ]
    },
    {
      "cell_type": "markdown",
      "source": [
        "**Resultados:**\n",
        "\n",
        "Se obtiene un **costo mínimo total de $240,000 pesos.**\n",
        "\n",
        "La empresa constructora deberá comprar:\n",
        "\n",
        "**35,000 kg** de cemento al **Proveedor A**\n",
        "\n",
        "**70,000 kg** de grava al **Proveedor B**\n",
        "\n",
        "**25,000 kg** de arena al **Proveedor A**\n",
        "\n",
        "**25,000 kg** de arena al **Proveedor C**\n",
        "\n",
        "Con esta combinación de compra, se logra satisfacer la demanda de **100 m³ de concreto**, cumpliendo todas las restricciones de capacidad de los proveedores.\n",
        "\n",
        "El resultado obtenido representa la opción más **económica y eficiente**, permitiendo reducir el gasto total de materiales sin afectar el cumplimiento del proyecto.\n"
      ],
      "metadata": {
        "id": "PEe-EWF20iZZ"
      },
      "id": "PEe-EWF20iZZ"
    },
    {
      "id": "554c5cde",
      "cell_type": "markdown",
      "source": [
        "### **Conclusiones:**\n",
        "- El modelo permitió **planificar la compra óptima** de materiales considerando diferentes precios y límites de entrega.\n",
        "- Se logró minimizar el costo total de la mezcla cumpliendo con la demanda.\n",
        "- Este tipo de modelo es útil en la **planeación de obra**, para reducir gastos y aprovechar mejor los recursos disponibles.\n",
        "\n",
        "---\n",
        "### **Referencias:**\n",
        "- Material de clase de *Simulación Matemática* (ITESO, 2025).  "
      ],
      "metadata": {
        "id": "554c5cde"
      }
    }
  ]
}